{
 "cells": [
  {
   "cell_type": "code",
   "execution_count": 2,
   "metadata": {},
   "outputs": [],
   "source": [
    "import pandas as pd"
   ]
  },
  {
   "cell_type": "code",
   "execution_count": 5,
   "metadata": {},
   "outputs": [],
   "source": [
    "dataset=pd.read_json('danezapi.json')"
   ]
  },
  {
   "cell_type": "code",
   "execution_count": 22,
   "metadata": {},
   "outputs": [],
   "source": [
    "dataset=dataset[dataset.iloc[:,1].notnull()]"
   ]
  },
  {
   "cell_type": "code",
   "execution_count": 27,
   "metadata": {},
   "outputs": [],
   "source": [
    "dataset=dataset[dataset.index>\"2008-01-01\"]"
   ]
  },
  {
   "cell_type": "code",
   "execution_count": 34,
   "metadata": {},
   "outputs": [
    {
     "output_type": "execute_result",
     "data": {
      "text/plain": "1. opendata_spy                     0\n2. highdata_spy                     0\n3. lowdata_spy                      0\n4. closedata_spy                    0\n5. adjusted closedata_spy           0\n6. volumedata_spy                   0\n7. dividend amountdata_spy          0\n8. split coefficientdata_spy        0\nReal Middle Banddata_spy_bb         0\nReal Lower Banddata_spy_bb          0\nReal Upper Banddata_spy_bb          0\nADOSCdata_spyadosc                  0\nADXdata_spyadx                      0\nAPOdata_spyapo                      0\nATRdata_spyatr                      0\nBOPdata_spybop                      0\nCCIdata_spycci                      0\nCMOdata_spycmo                      0\nDCPERIODdata_spydcp                 0\nHT_DCPHASEdata_spydcph              0\nDEMAdata_spydema                    0\nDXdata_spydx                        0\nEMAdata_spyema10                    0\nEMAdata_spyema100                   0\nEMAdata_spyema20                    0\nSINEdata_spyhtsine                  0\nLEAD SINEdata_spyhtsine             0\nKAMAdata_spykama                    0\nMACDdata_spymacd                    0\nMACD_Signaldata_spymacd             0\nMACD_Histdata_spymacd               0\nMAMAdata_spymama                    0\nFAMAdata_spymama                    0\nMFIdata_spymifi                     0\nMINUS_DIdata_spymin                 0\nMOMdata_spymom                      0\nNATRdata_spynatr                    0\nOBVdata_spyobv                      0\nPHASEdata_spyphas                   0\nQUADRATUREdata_spyphas              0\nPLUS_DIdata_spyplus                 0\nPPOdata_spyppo                      0\nROCdata_spyroc                      0\nRSIdata_spyrsi                      0\nSMAdata_spysma10                    0\nSMAdata_spysma100                   0\nSMAdata_spysma20                    0\nULTOSCdata_spyultr                  0\nWILLRdata_spywill                   0\nWMAdata_spywma10                    0\nWMAdata_spywma100                   0\nWMAdata_spywma20                    0\n1. opendata_EURUSD                  1\n2. highdata_EURUSD                  1\n3. lowdata_EURUSD                   1\n4. closedata_EURUSD                 1\n1. opendata_JPYUSD               1727\n2. highdata_JPYUSD               1727\n3. lowdata_JPYUSD                1727\n4. closedata_JPYUSD              1727\n1. opendata_NOKUSD               1727\n2. highdata_NOKUSD               1727\n3. lowdata_NOKUSD                1727\n4. closedata_NOKUSD              1727\n1. opendata_PLNUSD               1727\n2. highdata_PLNUSD               1727\n3. lowdata_PLNUSD                1727\n4. closedata_PLNUSD              1727\n1. opendata_ndaq                    0\n2. highdata_ndaq                    0\n3. lowdata_ndaq                     0\n4. closedata_ndaq                   0\n5. adjusted closedata_ndaq          0\n6. volumedata_ndaq                  0\n7. dividend amountdata_ndaq         0\n8. split coefficientdata_ndaq       0\nReal Middle Banddata_ndaq_bb        0\nReal Upper Banddata_ndaq_bb         0\nReal Lower Banddata_ndaq_bb         0\nADOSCdata_ndaqadosc                 0\nADXdata_ndaqadx                     0\nAPOdata_ndaqapo                     0\nATRdata_ndaqatr                     0\n1. opendata_dax                  1715\n2. highdata_dax                  1715\n3. lowdata_dax                   1715\n4. closedata_dax                 1715\n5. adjusted closedata_dax        1715\n6. volumedata_dax                1715\n7. dividend amountdata_dax       1715\n8. split coefficientdata_dax     1715\nReal Upper Banddata_dax_bb       1839\nReal Lower Banddata_dax_bb       1839\nReal Middle Banddata_dax_bb      1839\nADOSCdata_daxadosc               1724\nADXdata_daxadx                   1754\nAPOdata_daxapo                   1740\nATRdata_daxatr                   1735\n1. opendata_dow                  2822\n2. highdata_dow                  2822\n3. lowdata_dow                   2822\n4. closedata_dow                 2822\n5. adjusted closedata_dow        2822\n6. volumedata_dow                2822\n7. dividend amountdata_dow       2822\n8. split coefficientdata_dow     2822\nReal Middle Banddata_dow_bb      2946\nReal Lower Banddata_dow_bb       2946\nReal Upper Banddata_dow_bb       2946\nADOSCdata_dowadosc               2831\nADXdata_dowadx                   2861\nAPOdata_dowapo                   2847\nATRdata_dowatr                   2842\ndtype: int64"
     },
     "metadata": {},
     "execution_count": 34
    }
   ],
   "source": [
    "pd.options.display.max_rows = 999\n",
    "dataset.isnull().sum()"
   ]
  },
  {
   "cell_type": "code",
   "execution_count": null,
   "metadata": {},
   "outputs": [],
   "source": []
  }
 ],
 "metadata": {
  "language_info": {
   "codemirror_mode": {
    "name": "ipython",
    "version": 3
   },
   "file_extension": ".py",
   "mimetype": "text/x-python",
   "name": "python",
   "nbconvert_exporter": "python",
   "pygments_lexer": "ipython3",
   "version": "3.7.4-final"
  },
  "orig_nbformat": 2,
  "kernelspec": {
   "name": "python3",
   "display_name": "Python 3"
  }
 },
 "nbformat": 4,
 "nbformat_minor": 2
}